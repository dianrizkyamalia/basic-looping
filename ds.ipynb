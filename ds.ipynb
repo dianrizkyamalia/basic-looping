{
 "cells": [
  {
   "cell_type": "code",
   "execution_count": null,
   "metadata": {},
   "outputs": [],
   "source": [
    "list_1=[1,3,5.6,'a',\"PythonGeeks\",0.4]\n",
    "print(list_1[3]) \n",
    "print(list_1) \n",
    "print(list_1[-2])\n"
   ]
  },
  {
   "cell_type": "markdown",
   "metadata": {},
   "source": [
    "Nama : Dian Rizky Amalia\n",
    "NIM : J0403231038"
   ]
  },
  {
   "cell_type": "code",
   "execution_count": null,
   "metadata": {},
   "outputs": [],
   "source": [
    "Sample 1:\n",
    "list1=[1,-2,3,-4,5]\n",
    "list2=[x**2 for x in list1]\n",
    "print(list2)\n",
    "\n",
    "\n",
    "fruits = [\"apple\", \"banana\", \"cherry\", \"kiwi\", \"mango\"]\n",
    "newlist = [x if x != \"banana\" else \"orange\" for x in fruits]\n",
    "print(newlist)\n"
   ]
  },
  {
   "cell_type": "code",
   "execution_count": null,
   "metadata": {},
   "outputs": [],
   "source": [
    "emp_info=['Python',5,'Developer']\n",
    "\n",
    "\n",
    "skill,exp,role=emp_info\n",
    "print (skill)\t\n",
    "print (exp)\t\n",
    "print (role)\t"
   ]
  },
  {
   "cell_type": "code",
   "execution_count": null,
   "metadata": {},
   "outputs": [],
   "source": [
    "tup=(9,6,'g','Python',7.4)\n",
    "print(len(tup))\n",
    "print(tup.index('g'))\n",
    "\n",
    "print(tup.count('a'))\n"
   ]
  },
  {
   "cell_type": "code",
   "execution_count": null,
   "metadata": {},
   "outputs": [],
   "source": [
    "t1 = (1, 2, 3, 4)\n",
    "t2 = tuple([1, 2, 3, 4, 5])\n",
    "t3 = tuple([1, 2, 3, 4, 5, 6])\n",
    "\n",
    "\n",
    "print(f\"Tuple t1: {t1}\")\n",
    "print(f\"Tuple t2: {t2}\")\n",
    "print(f\"Tuple t3: {t3}\")\n"
   ]
  },
  {
   "cell_type": "code",
   "execution_count": null,
   "metadata": {},
   "outputs": [],
   "source": [
    "tup1 = ('physics', 'chemistry', 1997, 2000);\n",
    "tup2 = (1, 2, 3, 4, 5, 6, 7 );\n",
    "print (\"tup1[0]: \", tup1[0])\n",
    "print (\"tup2[1:5]: \", tup2[1:5])\n"
   ]
  },
  {
   "cell_type": "code",
   "execution_count": null,
   "metadata": {},
   "outputs": [],
   "source": [
    "tup1 = (12, 34.56);\n",
    "tup2 = ('abc', 'xyz');\n",
    "\n",
    "tup3 = tup1 + tup2;\n",
    "print (tup3);\n"
   ]
  },
  {
   "cell_type": "code",
   "execution_count": null,
   "metadata": {},
   "outputs": [],
   "source": [
    "tup = ('physics', 'chemistry', 1997, 2000);\n",
    "print (tup);\n",
    "del tup;\n",
    "print (\"After deleting tup : \");\n",
    "print (tup);\t\n"
   ]
  },
  {
   "cell_type": "code",
   "execution_count": null,
   "metadata": {},
   "outputs": [],
   "source": [
    "tup=(1,2,3,4,5)\n",
    "\n",
    "list1=list(tup)\n",
    "list1[4]=6\n",
    "\n",
    "tup=tuple(list1)\n",
    "tup\n"
   ]
  },
  {
   "cell_type": "code",
   "execution_count": null,
   "metadata": {},
   "outputs": [],
   "source": [
    "tup=1,2,3 #packing\n",
    "print(\"The type of \",tup,\"is:\",type(tup))\n",
    "\n",
    "a,b,c=tup \n",
    "print(a)\n",
    "print(b)\n",
    "print(c)\n"
   ]
  },
  {
   "cell_type": "code",
   "execution_count": null,
   "metadata": {},
   "outputs": [],
   "source": [
    "dict = {'Name': 'Zara', 'Age': 7, 'Class': 'First'}\n",
    "print (\"dict['Name']: \", dict['Name'])\n",
    "print (\"dict['Age']: \", dict['Age'])\n"
   ]
  },
  {
   "cell_type": "code",
   "execution_count": null,
   "metadata": {},
   "outputs": [],
   "source": [
    "dict = {'Name': 'Zara', 'Age': 7, 'Class': 'First'}\n",
    "dict['Age'] = 8; \n",
    "dict['School'] = \"DPS School\"; \n",
    "\n",
    "print (\"dict['Age']: \", dict['Age'])\n",
    "print (\"dict['School']: \", dict['School'])\n"
   ]
  },
  {
   "cell_type": "code",
   "execution_count": null,
   "metadata": {},
   "outputs": [],
   "source": [
    "dict = {'Name': 'Zara', 'Age': 7, 'Class': 'First'}\n",
    "dict['Age'] = 8; \n",
    "dict['School'] = \"DPS School\"; \n",
    "\n",
    "print (\"dict['Age']: \", dict['Age'])\n",
    "print (\"dict['School']: \", dict['School'])\n"
   ]
  },
  {
   "cell_type": "code",
   "execution_count": null,
   "metadata": {},
   "outputs": [],
   "source": [
    "dict = {'Name': 'Zara', 'Age': 7, 'Name': 'Manni'}\n",
    "print (\"dict['Name']: \", dict['Name'])\t"
   ]
  },
  {
   "cell_type": "code",
   "execution_count": null,
   "metadata": {},
   "outputs": [],
   "source": [
    "Days=set([\"Mon\",\"Tue\",\"Wed\",\"Thu\",\"Fri\",\"Sat\",\"Sun\"])\n",
    "Months={\"Jan\",\"Feb\",\"Mar\"}\n",
    "Dates={21,22,17}\n",
    "print(Days)\n",
    "print(Months)\n",
    "print(Dates)\n"
   ]
  },
  {
   "cell_type": "code",
   "execution_count": null,
   "metadata": {},
   "outputs": [],
   "source": [
    "Days=set([\"Mon\",\"Tue\",\"Wed\",\"Thu\",\"Fri\",\"Sat\",\"Sun\"])\n",
    " \n",
    "for d in Days:\n",
    "   print(d)\n"
   ]
  },
  {
   "cell_type": "code",
   "execution_count": null,
   "metadata": {},
   "outputs": [],
   "source": [
    "Days=set([\"Mon\",\"Tue\",\"Wed\",\"Thu\",\"Fri\",\"Sat\"])\n",
    " \n",
    "Days.discard(\"Sun\")\n",
    "print(Days)\n",
    "\n",
    "Days=set([\"Mon\",\"Tue\",\"Wed\",\"Thu\",\"Fri\",\"Sat\"])\n",
    " \n",
    "Days.discard(\"Sun\")\n",
    "print(Days)\n"
   ]
  },
  {
   "cell_type": "code",
   "execution_count": null,
   "metadata": {},
   "outputs": [],
   "source": [
    "DaysA = set([\"Mon\",\"Tue\",\"Wed\"])\n",
    "DaysB = set([\"Wed\",\"Thu\",\"Fri\",\"Sat\",\"Sun\"])\n",
    "print(DaysA|DaysB)\t\t\n",
    "print(DaysA & DaysB)\t\n",
    "print(DaysA - DaysB)"
   ]
  },
  {
   "cell_type": "code",
   "execution_count": null,
   "metadata": {},
   "outputs": [],
   "source": [
    "employee_dict = {\n",
    "    12345: {\n",
    "        \"id\": \"12345\",\n",
    "        \"name\": \"John\", \n",
    "        \"department\": \"Kitchen\"    \n",
    "    },\n",
    "    12458: {\n",
    "        \"id\": \"12458\",\n",
    "        \"name\": \"Paul\", \n",
    "        \"department\": \"House Floor\"    \n",
    "    }\n",
    "}\n",
    "\n",
    "def get_employee_from_dict(id):\n",
    "    return employee_dict[id];\n",
    "\n",
    "print(get_employee_from_dir(12458)):\n"
   ]
  },
  {
   "cell_type": "code",
   "execution_count": null,
   "metadata": {},
   "outputs": [],
   "source": []
  }
 ],
 "metadata": {
  "language_info": {
   "name": "python"
  }
 },
 "nbformat": 4,
 "nbformat_minor": 2
}
